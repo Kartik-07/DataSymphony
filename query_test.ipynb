{
 "cells": [
  {
   "cell_type": "code",
   "execution_count": 4,
   "metadata": {},
   "outputs": [],
   "source": [
    "import requests\n",
    "import json"
   ]
  },
  {
   "cell_type": "code",
   "execution_count": 5,
   "metadata": {},
   "outputs": [
    {
     "name": "stdout",
     "output_type": "stream",
     "text": [
      "{\n",
      "  \"answer\": \"Excessive internet use can lead to fatigue, eye problems, and a decline in academic performance.  It can also cause a loss of focus on traditional learning methods like in-class discussions and physical classroom learning, leading to decreased student attendance and impacting socialization and face-to-face interaction. This can negatively affect mental well-being.  Additionally, the internet facilitates plagiarism and copyright infringement, impacting academic professionals and potentially leading students to engage in careless plagiarism due to easy access to information and a lack of awareness about the consequences. [Source: C:/Users/karti/OneDrive/Desktop/RAG/Document\\\\AEPRE7.txt]\",\n",
      "  \"sources\": [\n",
      "    {\n",
      "      \"metadata\": {\n",
      "        \"source\": \"C:/Users/karti/OneDrive/Desktop/RAG/Document\\\\AEPRE7.txt\",\n",
      "        \"chunk_id\": 0,\n",
      "        \"relevance_score\": 0.99647564\n",
      "      },\n",
      "      \"content_snippet\": \"The Internet and its complementary negative consequences\\n\\nThe internet, as the word says, is nothing but an international networking setup, so it has revolutionized almost every field, be it engineeri...\"\n",
      "    },\n",
      "    {\n",
      "      \"metadata\": {\n",
      "        \"page\": 0,\n",
      "        \"Author\": \"Kartik Vadhera\",\n",
      "        \"source\": \"C:/Users/karti/OneDrive/Desktop/RAG/Document\\\\NCRESE_2020_paper_35.pdf\",\n",
      "        \"Creator\": \"Microsoft\\u00ae Word for Microsoft 365\",\n",
      "        \"ModDate\": \"D:20200813172049+05'30'\",\n",
      "        \"Producer\": \"Microsoft\\u00ae Word for Microsoft 365\",\n",
      "        \"chunk_id\": 1,\n",
      "        \"file_path\": \"C:/Users/karti/OneDrive/Desktop/RAG/Document\\\\NCRESE_2020_paper_35.pdf\",\n",
      "        \"total_pages\": 11,\n",
      "        \"CreationDate\": \"D:20200813172049+05'30'\",\n",
      "        \"relevance_score\": 0.08647765\n",
      "      },\n",
      "      \"content_snippet\": \"Optimization of Systems-Development Life Cycle through\\nAutomation using Ansible\\nKartik Vadhera1, Abhishek Deshwal2 and Amrendra Tripathi3\\nUniversity of Petroleum and Energy Studies, Dehradun, Uttarakh...\"\n",
      "    },\n",
      "    {\n",
      "      \"metadata\": {\n",
      "        \"source\": \"C:/Users/karti/OneDrive/Desktop/RAG/Document\\\\Transforming Medical Affairs with Generative AI.docx\",\n",
      "        \"chunk_id\": 13,\n",
      "        \"relevance_score\": 0.034815196\n",
      "      },\n",
      "      \"content_snippet\": \"ADD IMAGE \\u2013 Convert above three points to visual representation \\n\\nBy adopting a structured framework for insight capture and analysis, Medical Affairs shifts from a reactive, support function to a pro...\"\n",
      "    }\n",
      "  ]\n",
      "}\n"
     ]
    }
   ],
   "source": [
    "api_url = \"http://localhost:8000/query\"\n",
    "question = \"what are negative consequences of internet\" # Replace with your query\n",
    "\n",
    "payload = {\"query\": question}\n",
    "headers = {\"Content-Type\": \"application/json\"}\n",
    "\n",
    "try:\n",
    "    response = requests.post(api_url, headers=headers, json=payload)\n",
    "    response.raise_for_status() # Raise an exception for bad status codes (4xx or 5xx)\n",
    "\n",
    "    response_data = response.json()\n",
    "    print(json.dumps(response_data, indent=2)) # Pretty print the JSON response\n",
    "\n",
    "except requests.exceptions.RequestException as e:\n",
    "    print(f\"An error occurred: {e}\")\n",
    "except json.JSONDecodeError:\n",
    "    print(\"Could not decode JSON response:\")\n",
    "    print(response.text)\n"
   ]
  },
  {
   "cell_type": "code",
   "execution_count": null,
   "metadata": {},
   "outputs": [
    {
     "name": "stdout",
     "output_type": "stream",
     "text": [
      "Requirement already satisfied: pydantic[email] in c:\\users\\karti\\onedrive\\desktop\\rag\\rag_env\\lib\\site-packages (2.11.1)\n",
      "Requirement already satisfied: annotated-types>=0.6.0 in c:\\users\\karti\\onedrive\\desktop\\rag\\rag_env\\lib\\site-packages (from pydantic[email]) (0.7.0)\n",
      "Requirement already satisfied: pydantic-core==2.33.0 in c:\\users\\karti\\onedrive\\desktop\\rag\\rag_env\\lib\\site-packages (from pydantic[email]) (2.33.0)\n",
      "Requirement already satisfied: typing-extensions>=4.12.2 in c:\\users\\karti\\onedrive\\desktop\\rag\\rag_env\\lib\\site-packages (from pydantic[email]) (4.13.0)\n",
      "Requirement already satisfied: typing-inspection>=0.4.0 in c:\\users\\karti\\onedrive\\desktop\\rag\\rag_env\\lib\\site-packages (from pydantic[email]) (0.4.0)\n",
      "Collecting email-validator>=2.0.0 (from pydantic[email])\n",
      "  Downloading email_validator-2.2.0-py3-none-any.whl.metadata (25 kB)\n",
      "Collecting dnspython>=2.0.0 (from email-validator>=2.0.0->pydantic[email])\n",
      "  Downloading dnspython-2.7.0-py3-none-any.whl.metadata (5.8 kB)\n",
      "Requirement already satisfied: idna>=2.0.0 in c:\\users\\karti\\onedrive\\desktop\\rag\\rag_env\\lib\\site-packages (from email-validator>=2.0.0->pydantic[email]) (3.10)\n",
      "Downloading email_validator-2.2.0-py3-none-any.whl (33 kB)\n",
      "Downloading dnspython-2.7.0-py3-none-any.whl (313 kB)\n",
      "Installing collected packages: dnspython, email-validator\n",
      "Successfully installed dnspython-2.7.0 email-validator-2.2.0\n",
      "Note: you may need to restart the kernel to use updated packages.\n"
     ]
    }
   ],
   "source": []
  }
 ],
 "metadata": {
  "kernelspec": {
   "display_name": "rag_env",
   "language": "python",
   "name": "python3"
  },
  "language_info": {
   "codemirror_mode": {
    "name": "ipython",
    "version": 3
   },
   "file_extension": ".py",
   "mimetype": "text/x-python",
   "name": "python",
   "nbconvert_exporter": "python",
   "pygments_lexer": "ipython3",
   "version": "3.12.10"
  }
 },
 "nbformat": 4,
 "nbformat_minor": 2
}
